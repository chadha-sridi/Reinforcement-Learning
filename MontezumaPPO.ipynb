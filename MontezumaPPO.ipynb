{
 "cells": [
  {
   "cell_type": "code",
   "execution_count": null,
   "metadata": {},
   "outputs": [],
   "source": [
    "import os \n",
    "os.environ['KMP_DUPLICATE_LIB_OK']='True'"
   ]
  },
  {
   "cell_type": "code",
   "execution_count": null,
   "metadata": {},
   "outputs": [],
   "source": [
    "import gym\n",
    "import numpy as np\n",
    "import matplotlib.pyplot as plt\n",
    "from stable_baselines3 import PPO\n",
    "from stable_baselines3.common.callbacks import BaseCallback\n",
    "import cv2\n",
    "from hashlib import sha256\n",
    "from collections import OrderedDict\n",
    "import matplotlib\n",
    "from gym.wrappers import GrayScaleObservation\n",
    "from stable_baselines3.common.vec_env import VecFrameStack, DummyVecEnv, VecEnvWrapper\n",
    "from stable_baselines3.common.env_util import make_vec_env\n",
    "from gym import spaces\n",
    "from stable_baselines3.common.callbacks import CheckpointCallback"
   ]
  },
  {
   "cell_type": "code",
   "execution_count": null,
   "metadata": {},
   "outputs": [],
   "source": [
    "# Create environment\n",
    "env = gym.make('MontezumaRevenge-v0', render_mode=\"rgb_array\")"
   ]
  },
  {
   "cell_type": "code",
   "execution_count": null,
   "metadata": {},
   "outputs": [],
   "source": [
    "env.observation_space"
   ]
  },
  {
   "cell_type": "code",
   "execution_count": null,
   "metadata": {},
   "outputs": [],
   "source": [
    "env.action_space"
   ]
  },
  {
   "cell_type": "code",
   "execution_count": null,
   "metadata": {},
   "outputs": [],
   "source": [
    "env.spec"
   ]
  },
  {
   "cell_type": "code",
   "execution_count": null,
   "metadata": {},
   "outputs": [],
   "source": [
    "env1 = GrayScaleObservation(env, keep_dim=True)\n",
    "#env1 = make_vec_env(lambda: env1, n_envs=4) you wouldn't use the dummyvec if you uncomment this\n",
    "env1 = DummyVecEnv([lambda: env1]) #create a vectorized environment \n",
    "env1 = VecFrameStack(env1, 4, channels_order='last') #consecutive frames are stacked together as a single input to the agent's policy network to make decisions based on the temporal dynamics of the game env."
   ]
  },
  {
   "cell_type": "code",
   "execution_count": null,
   "metadata": {},
   "outputs": [],
   "source": [
    "def convert_state(state):\n",
    "    # Extract dimensions of a single frame\n",
    "    state = state.squeeze()\n",
    "    height, width, num_frames = state.shape\n",
    "\n",
    "    # New dimensions for downscaling \n",
    "    new_width = 8\n",
    "    new_height = 11\n",
    "    depth = 12  \n",
    "\n",
    "    # Resize each frame individually\n",
    "    resized_frames = []\n",
    "    for i in range(num_frames):\n",
    "        resized_frame = cv2.resize(state[:, :, i], (new_width, new_height), interpolation=cv2.INTER_AREA)\n",
    "        resized_frame = ((resized_frame / 255.0) * depth).astype(np.uint8)\n",
    "        resized_frames.append(resized_frame)\n",
    "    \n",
    "    # Stack the resized frames back together\n",
    "    resized_state = np.stack(resized_frames, axis=-1)\n",
    "\n",
    "    return resized_state.astype(np.uint8)\n"
   ]
  },
  {
   "cell_type": "code",
   "execution_count": null,
   "metadata": {},
   "outputs": [],
   "source": [
    "def make_reference(cell):\n",
    "      cell_as_string = ''.join(cell.astype(int).astype(str).flatten())\n",
    "      cell_as_bytes = cell_as_string.encode()\n",
    "      cell_as_hash_bytes = sha256(cell_as_bytes)\n",
    "      cell_as_hash_hex = cell_as_hash_bytes.hexdigest()\n",
    "      cell_as_hash_int = int(cell_as_hash_hex, 16)\n",
    "      cell_as_hash_string = str(cell_as_hash_int)\n",
    "      return cell_as_hash_string"
   ]
  },
  {
   "cell_type": "code",
   "execution_count": null,
   "metadata": {},
   "outputs": [],
   "source": [
    "class TrackCellsCallback(BaseCallback):\n",
    "    def __init__(self, verbose=0):\n",
    "        super(TrackCellsCallback, self).__init__(verbose)\n",
    "        self.visited_cells = set()\n",
    "        self.visited_cells_per_episode = set()\n",
    "        self.number_explored_over_timesteps = []\n",
    "        self.episode_cells_counts = []\n",
    "\n",
    "    def _on_step(self) -> bool:\n",
    "        obs = self.locals['new_obs']\n",
    "        cell = convert_state(obs) \n",
    "        ref = make_reference(cell)\n",
    "        self.visited_cells.add(ref)\n",
    "        self.visited_cells_per_episode.add(ref) \n",
    "        self.number_explored_over_timesteps.append(len(self.visited_cells)) \n",
    "\n",
    "        if self.locals['dones'][0]: # Check if the episode has ended\n",
    "            self.episode_cells_counts.append(len(self.visited_cells_per_episode))\n",
    "            self.visited_cells_per_episode.clear()  # Reset for the next episode\n",
    "            \n",
    "            \n",
    "        return True\n",
    "\n",
    "    def plot_cell_count_over_timesteps(self):\n",
    "        plt.plot(range(len(self.number_explored_over_timesteps)), self.number_explored_over_timesteps)\n",
    "        plt.xlabel('Timesteps')\n",
    "        plt.ylabel('Percentage of Cells Visited')\n",
    "        plt.title('Exploration Over Timesteps')\n",
    "        plt.show()\n",
    "\n",
    "    def plot_cell_count_over_episodes(self):\n",
    "        plt.plot(range(len(self.episode_cells_counts)), self.episode_cells_counts)\n",
    "        plt.xlabel('Episodes')\n",
    "        plt.ylabel('Percentage of Cells Visited')\n",
    "        plt.title('Exploration Over Episodes')\n",
    "        plt.show()"
   ]
  },
  {
   "cell_type": "code",
   "execution_count": null,
   "metadata": {},
   "outputs": [],
   "source": [
    "class TrackCumulativeRewardsCallback(BaseCallback):\n",
    "    def __init__(self, verbose=0, block_size=100):\n",
    "        super(TrackCumulativeRewardsCallback, self).__init__(verbose)\n",
    "        self.current_episode_reward = 0\n",
    "        self.cumulative_rewards_per_episode = []\n",
    "        self.block_rewards = []  # Stores rewards for current block\n",
    "        self.block_size = block_size  # Number of timesteps per block\n",
    "        self.block_variances = []  # Stores variance for each block\n",
    "\n",
    "    def _on_step(self) -> bool:\n",
    "        reward = self.locals['rewards'][0]  # rewards is a list, we take the first element\n",
    "        self.current_episode_reward += reward\n",
    "        self.block_rewards.append(reward)\n",
    "\n",
    "        #calculating cumulative reward per episode\n",
    "        if self.locals['dones'][0]:  # Check if the episode has ended\n",
    "            self.cumulative_rewards_per_episode.append(self.current_episode_reward)\n",
    "            self.current_episode_reward = 0  # Reset for the next episode\n",
    "        \n",
    "        #calculating reward variance per timesteps block\n",
    "        if len(self.block_rewards) == self.block_size:\n",
    "            self.calculate_block_variance()\n",
    "        \n",
    "        return True\n",
    "\n",
    "    \n",
    "    def plot_cumulative_rewards_over_episodes(self):\n",
    "        plt.plot(range(len(self.cumulative_rewards_per_episode)), self.cumulative_rewards_per_episode)\n",
    "        plt.xlabel('Episodes')\n",
    "        plt.ylabel('Cumulative Reward')\n",
    "        plt.title('Cumulative Reward Over Episodes')\n",
    "        plt.show()\n",
    "\n",
    "\n",
    "    def calculate_block_variance(self):\n",
    "        \n",
    "        mean = sum(self.block_rewards) / len(self.block_rewards)\n",
    "        variance = sum((x - mean) ** 2 for x in self.block_rewards) / (len(self.block_rewards) - 1)\n",
    "        self.block_variances.append(variance)\n",
    "        self.block_rewards = []  # Reset for the next episode\n",
    "    \n",
    "    def plot_block_variances(self):\n",
    "            \n",
    "            block_starts = list(range(1, len(self.block_variances) + 1))  # Create block numbers\n",
    "            plt.plot(block_starts, self.block_variances)  # Plot variance vs block start steps\n",
    "            plt.xlabel('Block Start Step')\n",
    "            plt.ylabel('Block Variance')\n",
    "            plt.title('Evolution of Variance Across Blocks of Timesteps')\n",
    "            plt.show()\n",
    "\n",
    "    "
   ]
  },
  {
   "cell_type": "code",
   "execution_count": null,
   "metadata": {},
   "outputs": [],
   "source": [
    "# Set up PPO model\n",
    "model = PPO('MlpPolicy', env1, verbose=1)\n",
    "\n",
    "# Create the callbacks\n",
    "cells_callback = TrackCellsCallback()\n",
    "rewards_callback = TrackCumulativeRewardsCallback()\n",
    "# Define checkpointing callback\n",
    "checkpoint_callback = CheckpointCallback(save_freq=10000, save_path='./models_montezuma_revenge/', name_prefix='ppo_montezuma')\n",
    "# Train the model with the callbacks\n",
    "model.learn(total_timesteps=10000000, callback=[cells_callback, rewards_callback, checkpoint_callback])\n"
   ]
  },
  {
   "cell_type": "code",
   "execution_count": null,
   "metadata": {},
   "outputs": [],
   "source": [
    "#To interrupt and resume the training, save the model and then load it later to carry on from there "
   ]
  },
  {
   "cell_type": "code",
   "execution_count": null,
   "metadata": {},
   "outputs": [],
   "source": [
    "# Save the model\n",
    "model.save(\"ppo_montezuma_model\")"
   ]
  },
  {
   "cell_type": "code",
   "execution_count": null,
   "metadata": {},
   "outputs": [],
   "source": [
    "# Plotting additional statistics\n",
    "cells_callback.plot_cell_count_over_timesteps()\n",
    "cells_callback.plot_cell_count_over_episodes()\n",
    "rewards_callback.plot_cumulative_rewards_over_episodes()\n",
    "rewards_callback.plot_block_variances()"
   ]
  }
 ],
 "metadata": {
  "kernelspec": {
   "display_name": "Python 3 (ipykernel)",
   "language": "python",
   "name": "python3"
  },
  "language_info": {
   "codemirror_mode": {
    "name": "ipython",
    "version": 3
   },
   "file_extension": ".py",
   "mimetype": "text/x-python",
   "name": "python",
   "nbconvert_exporter": "python",
   "pygments_lexer": "ipython3",
   "version": "3.11.7"
  }
 },
 "nbformat": 4,
 "nbformat_minor": 4
}
