{
 "cells": [
  {
   "cell_type": "code",
   "execution_count": null,
   "id": "f123ce9a-a56b-48c5-ba36-e9750ad5a3c9",
   "metadata": {},
   "outputs": [],
   "source": [
    "import gym\n",
    "import numpy as np\n",
    "from joblib import load\n",
    "import csv\n",
    "from stable_baselines3 import PPO\n",
    "from stable_baselines3.common.evaluation import evaluate_policy\n",
    "from gym.wrappers import GrayScaleObservation\n",
    "from stable_baselines3.common.vec_env import VecFrameStack, DummyVecEnv, VecEnvWrapper\n",
    "from stable_baselines3.common.env_util import make_vec_env\n",
    "\n",
    "# Create environment\n",
    "env = gym.make('MontezumaRevenge', render_mode=\"rgb_array\")\n",
    "env.reward_range = (-2, 2) \n",
    "env = GrayScaleObservation(env, keep_dim=True)\n",
    "env = DummyVecEnv([lambda: env]) # Create a vectorized environment for parallelized training using multiple envs\n",
    "env = VecFrameStack(env, 4, channels_order='last') # Stack consecutive frames\n",
    "\n",
    "# Load the trained models\n",
    "ppo_model = PPO.load(\"./no_exploration_ppo_models/no_expl_ppo_montezuma_2246656_steps.zip\")\n",
    "\n",
    "# Set the number of test episodes\n",
    "num_test_episodes = 1000\n",
    "\n",
    "# Function to run a test episode and collect data\n",
    "def test_agent(model, env, num_episodes, csv_filename):\n",
    "    cumulative_score = 0\n",
    "    with open(csv_filename, mode='a', newline='') as file:\n",
    "        writer = csv.writer(file)\n",
    "        # Write the header if it's the first time writing to the file\n",
    "        if file.tell() == 0:\n",
    "            writer.writerow([\"Episode\", \"Total Reward\", \"Cumulative Score\"])\n",
    "        \n",
    "        for episode in range(num_episodes):\n",
    "            obs = env.reset()  # Reset environment\n",
    "            if isinstance(obs, tuple):  # Check if reset returns a tuple\n",
    "                obs = obs[0]  # Extract the observation from the tuple\n",
    "            done = False\n",
    "            total_reward = 0\n",
    "            while not done:\n",
    "                action, _states = model.predict(obs)\n",
    "                obs, reward, done, info = env.step(action)\n",
    "                total_reward += reward\n",
    "                cumulative_score += reward\n",
    "            \n",
    "            # Write episode data to the CSV\n",
    "            writer.writerow([episode + 1, total_reward, cumulative_score])\n",
    "\n",
    "    return cumulative_score\n",
    "\n",
    "# Test PPO Model\n",
    "ppo_cumulative_score = test_agent(ppo_model, env, num_test_episodes, 'test_results.csv') "
   ]
  }
 ],
 "metadata": {
  "kernelspec": {
   "display_name": "Python 3 (ipykernel)",
   "language": "python",
   "name": "python3"
  },
  "language_info": {
   "codemirror_mode": {
    "name": "ipython",
    "version": 3
   },
   "file_extension": ".py",
   "mimetype": "text/x-python",
   "name": "python",
   "nbconvert_exporter": "python",
   "pygments_lexer": "ipython3",
   "version": "3.11.7"
  }
 },
 "nbformat": 4,
 "nbformat_minor": 5
}
